{
 "cells": [
  {
   "cell_type": "code",
   "execution_count": 14,
   "metadata": {},
   "outputs": [],
   "source": [
    "import cv2\n",
    "import sys\n",
    "import pandas as pd\n",
    "import numpy as np"
   ]
  },
  {
   "cell_type": "code",
   "execution_count": 19,
   "metadata": {},
   "outputs": [],
   "source": [
    "faceCascade = cv2.CascadeClassifier(r'C:\\Users\\bhagathbabu.bellagan\\Downloads\\Image-Recognition-master\\haarcascade_face.xml')"
   ]
  },
  {
   "cell_type": "code",
   "execution_count": 20,
   "metadata": {},
   "outputs": [],
   "source": [
    "def train():\n",
    "    # Face Recognizer using Linear Binary Pattern Histogram Algo\n",
    "    face_recognizer = cv2.face.LBPHFaceRecognizer_create()\n",
    "\n",
    "    # Read csv file using pandas\n",
    "    #data = pd.read_csv('train_faces.csv').values\n",
    "    data = pd.read_csv(r'C:\\Users\\bhagathbabu.bellagan\\Downloads\\Image-Recognition-master\\train_faces.csv').values\n",
    "    \n",
    "    images=[]\n",
    "    labels=[]\n",
    "\n",
    "    for ix in range(data.shape[0]):\n",
    "        img = cv2.imread('C:/Users/bhagathbabu.bellagan/Downloads/Image-Recognition-master/' + data[0][0])\n",
    "        gray = cv2.cvtColor(img,cv2.COLOR_BGR2GRAY)\n",
    "        images.append(gray)\n",
    "        labels.append(data[ix][1])\n",
    "\n",
    "    face_recognizer.train(images,np.array(labels))\n",
    "    return face_recognizer"
   ]
  },
  {
   "cell_type": "code",
   "execution_count": 27,
   "metadata": {},
   "outputs": [],
   "source": [
    "def test(test_img, face_recognizer):\n",
    "\n",
    "    image = cv2.imread('C:/Users/bhagathbabu.bellagan/Downloads/Image-Recognition-master/test.jpg')\n",
    "    gray = cv2.cvtColor(image,cv2.COLOR_BGR2GRAY)\n",
    "\n",
    "    faces = faceCascade.detectMultiScale(gray,scaleFactor=1.1,minNeighbors=5,minSize=(30, 30),flags = 0)\n",
    "    print(faces)\n",
    "    for (x, y, w, h) in faces:\n",
    "\n",
    "        sub_img = gray[y:y+h,x:x+w]\n",
    "        cv2.rectangle(image, (x, y), (x+w, y+h), (0, 255, 0), 2)\n",
    "\n",
    "        # Predict label of detected face\n",
    "        pred_label = face_recognizer.predict(gray)\n",
    "\n",
    "        cv2.putText(image,str(pred_label),(x,y-5), cv2.FONT_HERSHEY_PLAIN, 2,(0,255,0),1)\n",
    "        cv2.imshow('Face Recognition',image)\n",
    "        # Press Esc to Close Window\n",
    "        cv2.waitKey(0)"
   ]
  },
  {
   "cell_type": "code",
   "execution_count": 28,
   "metadata": {},
   "outputs": [
    {
     "name": "stdout",
     "output_type": "stream",
     "text": [
      "[[ 40  60 152 152]]\n"
     ]
    }
   ],
   "source": [
    "\n",
    "if __name__ == '__main__':\n",
    "    face_recog = train()\n",
    "    test(test_img, face_recog)"
   ]
  },
  {
   "cell_type": "code",
   "execution_count": null,
   "metadata": {},
   "outputs": [],
   "source": []
  }
 ],
 "metadata": {
  "kernelspec": {
   "display_name": "Python 3",
   "language": "python",
   "name": "python3"
  },
  "language_info": {
   "codemirror_mode": {
    "name": "ipython",
    "version": 3
   },
   "file_extension": ".py",
   "mimetype": "text/x-python",
   "name": "python",
   "nbconvert_exporter": "python",
   "pygments_lexer": "ipython3",
   "version": "3.6.4"
  }
 },
 "nbformat": 4,
 "nbformat_minor": 2
}
